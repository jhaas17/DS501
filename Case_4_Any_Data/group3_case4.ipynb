{
 "cells": [
  {
   "cell_type": "markdown",
   "metadata": {},
   "source": [
    "# Case Study 4 : Data Science in Any Data You Like"
   ]
  },
  {
   "cell_type": "markdown",
   "metadata": {},
   "source": [
    "# Problem: pick a data science problem that you plan to solve using your Data\n",
    "* The problem should be important and interesting, which has a potential impact in some area.\n",
    "* The problem should be solvable using the data and data science solutions.\n",
    "\n",
    "Please briefly describe in the following cell: what problem are you trying to solve? why this problem is important and interesting?"
   ]
  },
  {
   "cell_type": "markdown",
   "metadata": {},
   "source": [
    "# Data Import"
   ]
  },
  {
   "cell_type": "code",
   "execution_count": 1,
   "metadata": {},
   "outputs": [],
   "source": [
    "import pandas as pd\n",
    "import numpy as np\n",
    "import datetime\n",
    "import matplotlib.pyplot as plt\n",
    "from matplotlib import cm\n",
    "from colorspacious import cspace_converter\n",
    "from collections import OrderedDict\n",
    "from sklearn.preprocessing import LabelEncoder\n",
    "from sklearn.preprocessing import StandardScaler\n",
    "from sklearn.model_selection import KFold\n",
    "from sklearn.svm import SVR\n",
    "import matplotlib.pyplot as plt\n",
    "from matplotlib import cm\n",
    "from colorspacious import cspace_converter\n",
    "from collections import OrderedDict\n",
    "\n",
    "# LAX monthly operation data\n",
    "rawdata = pd.read_csv(\"los-angeles-international-airport-flight-operations-by-month.csv\")\n",
    "# MachineHack\n",
    "train = pd.read_excel(\"Data_Train.xlsx\")"
   ]
  },
  {
   "cell_type": "markdown",
   "metadata": {},
   "source": [
    "# Data Exploration: Exploring the your data"
   ]
  },
  {
   "cell_type": "code",
   "execution_count": 2,
   "metadata": {},
   "outputs": [
    {
     "name": "stdout",
     "output_type": "stream",
     "text": [
      "  FlightType  FlightOpsCount\n",
      "0    Charter            9905\n",
      "1   Commuter         1039705\n",
      "2  Scheduled         6158839\n"
     ]
    },
    {
     "data": {
      "image/png": "[encoded data removed]",
      "text/plain": [
       "<Figure size 432x288 with 1 Axes>"
      ]
     },
     "metadata": {
      "needs_background": "light"
     },
     "output_type": "display_data"
    },
    {
     "name": "stdout",
     "output_type": "stream",
     "text": [
      "    month  FlightOpsCount\n",
      "0       1          657616\n",
      "1       2          548712\n",
      "2       3          624031\n",
      "3       4          609536\n",
      "4       5          633340\n",
      "5       6          647903\n",
      "6       7          623579\n",
      "7       8          617963\n",
      "8       9          556533\n",
      "9      10          574327\n",
      "10     11          543160\n",
      "11     12          571749\n"
     ]
    },
    {
     "data": {
      "image/png": "[encoded data removed]",
      "text/plain": [
       "<Figure size 432x288 with 1 Axes>"
      ]
     },
     "metadata": {
      "needs_background": "light"
     },
     "output_type": "display_data"
    },
    {
     "name": "stdout",
     "output_type": "stream",
     "text": [
      "    year  FlightOpsCount\n",
      "0   2006          577883\n",
      "1   2007          603790\n",
      "2   2008          559863\n",
      "3   2009          505084\n",
      "4   2010          520719\n",
      "5   2011          547863\n",
      "6   2012          549892\n",
      "7   2013          559096\n",
      "8   2014          577934\n",
      "9   2015          583456\n",
      "10  2016          620737\n",
      "11  2017          685634\n",
      "12  2018          316498\n"
     ]
    },
    {
     "data": {
      "image/png": "[encoded data removed]",
      "text/plain": [
       "<Figure size 432x288 with 1 Axes>"
      ]
     },
     "metadata": {
      "needs_background": "light"
     },
     "output_type": "display_data"
    },
    {
     "name": "stdout",
     "output_type": "stream",
     "text": [
      "   FlightType  year  FlightOpsCount\n",
      "0     Charter  2006            1672\n",
      "1     Charter  2007             634\n",
      "2     Charter  2008             666\n",
      "3     Charter  2009            1306\n",
      "4     Charter  2010             967\n",
      "5     Charter  2011             518\n",
      "6     Charter  2012             653\n",
      "7     Charter  2013             660\n",
      "8     Charter  2014             684\n",
      "9     Charter  2015             608\n",
      "10    Charter  2016             612\n",
      "11    Charter  2017             655\n",
      "12    Charter  2018             270\n",
      "13   Commuter  2006          144614\n",
      "14   Commuter  2007          142213\n",
      "15   Commuter  2008          120796\n",
      "16   Commuter  2009          109142\n",
      "17   Commuter  2010          121494\n",
      "18   Commuter  2011          137671\n",
      "19   Commuter  2012          123464\n",
      "20   Commuter  2013           79886\n",
      "21   Commuter  2014           59883\n",
      "22   Commuter  2015             358\n",
      "23   Commuter  2016             180\n",
      "24   Commuter  2017               4\n",
      "25  Scheduled  2006          431597\n",
      "26  Scheduled  2007          460943\n",
      "27  Scheduled  2008          438401\n",
      "28  Scheduled  2009          394636\n",
      "29  Scheduled  2010          398258\n",
      "30  Scheduled  2011          409674\n",
      "31  Scheduled  2012          425775\n",
      "32  Scheduled  2013          478550\n",
      "33  Scheduled  2014          517367\n",
      "34  Scheduled  2015          582490\n",
      "35  Scheduled  2016          619945\n",
      "36  Scheduled  2017          684975\n",
      "37  Scheduled  2018          316228\n"
     ]
    },
    {
     "data": {
      "image/png": "[encoded data removed]",
      "text/plain": [
       "<Figure size 432x288 with 1 Axes>"
      ]
     },
     "metadata": {},
     "output_type": "display_data"
    }
   ],
   "source": [
    "rawdata.head()\n",
    "df = rawdata\n",
    "df['year'] = pd.DatetimeIndex(df['ReportPeriod']).year\n",
    "df['month'] = pd.DatetimeIndex(df['ReportPeriod']).month\n",
    "flighttype = df.groupby(['FlightType'])['FlightOpsCount'].sum().reset_index()\n",
    "print(flighttype)\n",
    "# Make a dataset:\n",
    "height = flighttype['FlightOpsCount'].tolist()\n",
    "bars = tuple(flighttype['FlightType'].tolist())\n",
    "y_pos = np.arange(len(bars))\n",
    "# Create bars\n",
    "plt.barh(y_pos, height,color=(0.2, 0.4, 0.6, 0.4), edgecolor='white')\n",
    "# Create names on the y-axis\n",
    "plt.yticks(y_pos+0.4, bars)\n",
    "#ax.bar(range(3), bars, width=1, align='center')\n",
    "# title\n",
    "plt.title('Opporation Count with Flight Type')\n",
    "plt.xlabel('Frequency')\n",
    "plt.ylabel('Flight Type')\n",
    "# Show graphic\n",
    "plt.show()\n",
    "\n",
    "month = df.groupby(['month'])['FlightOpsCount'].sum().reset_index()\n",
    "print(month)\n",
    "# Make a dataset:\n",
    "height = month['FlightOpsCount'].tolist()\n",
    "bars = tuple(month['month'].tolist())\n",
    "y_pos = np.arange(len(bars))\n",
    "# Create bars\n",
    "plt.barh(y_pos, height,color=(0.2, 0.4, 0.6, 0.4), edgecolor='white')\n",
    "# Create names on the y-axis\n",
    "plt.yticks(y_pos+0.4, bars)\n",
    "#ax.bar(range(3), bars, width=1, align='center')\n",
    "# title\n",
    "plt.title('Opporation Count with Month')\n",
    "plt.xlabel('Frequency')\n",
    "plt.ylabel('Month')\n",
    "# Show graphic\n",
    "plt.show()\n",
    "\n",
    "year = df.groupby(['year'])['FlightOpsCount'].sum().reset_index()\n",
    "print(year)\n",
    "# Make a dataset:\n",
    "height = year['FlightOpsCount'].tolist()\n",
    "bars = tuple(year['year'].tolist())\n",
    "y_pos = np.arange(len(bars))\n",
    "# Create bars\n",
    "plt.barh(y_pos, height,color=(0.2, 0.4, 0.6, 0.4), edgecolor='white')\n",
    "# Create names on the y-axis\n",
    "plt.yticks(y_pos+0.4, bars)\n",
    "#ax.bar(range(3), bars, width=1, align='center')\n",
    "# title\n",
    "plt.title('Opporation Count with Year')\n",
    "plt.xlabel('Frequency')\n",
    "plt.ylabel('Year')\n",
    "# Show graphic\n",
    "plt.show()\n",
    "\n",
    "type_year = df.groupby(['FlightType', 'year'])['FlightOpsCount'].sum().reset_index() \n",
    "print(type_year)\n",
    "df=pd.DataFrame({'x': range(2006,2018), \n",
    "                 'Charter': type_year['FlightOpsCount'][:12].tolist(), \n",
    "                 'Commuter': type_year['FlightOpsCount'][13:25].tolist(), \n",
    "                 'Scheduled': type_year['FlightOpsCount'][25:37].tolist()})\n",
    "# style\n",
    "plt.style.use('seaborn-darkgrid') \n",
    "# create a color palette\n",
    "#palette = plt.get_cmap('bwr')\n",
    "colors = ['purple', 'blue', 'green']\n",
    "# multiple line plot\n",
    "num=0\n",
    "for column in df.drop('x', axis=1):\n",
    "    plt.plot(df['x'], df[column], marker='', color=colors[num], linewidth=1, alpha=0.9, label=column)\n",
    "    num+=1\n",
    "# Add legend\n",
    "plt.legend(loc=2, ncol=2)\n",
    "# Add titles\n",
    "plt.title(\"Operation Count Trend\", loc='center', fontsize=14, fontweight=0, color='black')\n",
    "plt.xlabel(\"Time\")\n",
    "plt.ylabel(\"Count\")\n",
    "plt.show()"
   ]
  },
  {
   "cell_type": "markdown",
   "metadata": {},
   "source": [
    "# Data Collection/Processing: "
   ]
  },
  {
   "cell_type": "code",
   "execution_count": 3,
   "metadata": {},
   "outputs": [],
   "source": [
    "################## MachineHack Data preprocessing\n",
    "len(train)\n",
    "len(train.dropna())\n",
    "train = train.dropna()\n",
    "#departure_month, departure_day \n",
    "train['departure_month'] = pd.to_datetime(train['Date_of_Journey'],\n",
    "                                          format='%d/%m/%Y').dt.month\n",
    "train['departure_day'] = pd.to_datetime(train['Date_of_Journey'],\n",
    "                                          format='%d/%m/%Y').dt.day\n",
    "train.head(15)\n",
    "#departure_time\n",
    "train['departure_hour'] = pd.to_datetime(train['Dep_Time'],\n",
    "                                         format='%H:%M').dt.hour\n",
    "train['departure_min'] = pd.to_datetime(train['Dep_Time'],\n",
    "                                         format='%H:%M').dt.minute\n",
    "train.head(5)\n",
    "#duration\n",
    "# train['Duration']\n",
    "## split\n",
    "ls = list(train['Duration'])\n",
    "for i in range(len(ls)):\n",
    "    ob = ls[i].split()\n",
    "    if len(ob) == 1:\n",
    "        if ob[0][-1] == 'h':\n",
    "            ob = ob[0].strip()+' 0m'\n",
    "        elif ob[0][-1] == 'm':\n",
    "            ob = '0h '+ob[0].strip()\n",
    "        ls[i] = ob\n",
    "ls    \n",
    "#duration\n",
    "## hour and minute\n",
    "dh = []\n",
    "dm = []\n",
    "for i in range(len(ls)):\n",
    "    ob = ls[i].split()\n",
    "    if len(ob) == 2:\n",
    "        dh.append(ob[0][:-1])\n",
    "        dm.append(ob[1][:-1])\n",
    "# len(dh)\n",
    "# len(dm)\n",
    "train['duration_hour'] = dh\n",
    "train['duration_min'] = dm\n",
    "#Total_Stops\n",
    "#train['Total_Stops']\n",
    "tsls = list(train['Total_Stops'])\n",
    "for i in range(len(tsls)):\n",
    "    ob = tsls[i].split()\n",
    "    if len(ob) == 1:\n",
    "        ob = 0\n",
    "    elif len(ob) == 2:\n",
    "        ob = int(ob[0])\n",
    "    tsls[i] = ob\n",
    "tsls\n",
    "train['total_stops_int'] = tsls\n",
    "# arrival hour minute\n",
    "train['arrival_hour'] = pd.to_datetime(train[\"Arrival_Time\"]).dt.hour\n",
    "train['arrival_min'] = pd.to_datetime(train[\"Arrival_Time\"]).dt.minute\n",
    "train.head(3)\n",
    "train_clean = train.drop(labels = ['Date_of_Journey','Dep_Time','Arrival_Time','Duration','Total_Stops'],axis =1)\n",
    "train_clean.to_csv(\"Flight_Ticket_clean_data.csv\", index = False)"
   ]
  },
  {
   "cell_type": "markdown",
   "metadata": {},
   "source": [
    "# The Solution: implement a data science solution to the problem you are trying to solve."
   ]
  },
  {
   "cell_type": "markdown",
   "metadata": {},
   "source": [
    "Since the data contains many predictors that are not ordinal, we decided to attempt using a "
   ]
  },
  {
   "cell_type": "code",
   "execution_count": 4,
   "metadata": {},
   "outputs": [
    {
     "name": "stdout",
     "output_type": "stream",
     "text": [
      "Predictor: Duration Importance: 0.508522\n",
      "Predictor: Additional_Info_In-flight meal not included Importance: 0.082781\n",
      "Predictor: Airline_Jet Airways Business Importance: 0.067694\n",
      "Predictor: Airline_Jet Airways Importance: 0.063707\n",
      "Predictor: Day_Friday Importance: 0.037078\n",
      "Predictor: Route_BLR → BOM → DEL Importance: 0.028485\n",
      "Predictor: total_stops_int Importance: 0.02583\n",
      "Predictor: Airline_Multiple carriers Importance: 0.020255\n",
      "Predictor: Destination_New Delhi Importance: 0.015301\n",
      "Predictor: Day_Sunday Importance: 0.011465\n",
      "Predictor: Additional_Info_Business class Importance: 0.010313\n",
      "Predictor: Day_Monday Importance: 0.009568\n",
      "Predictor: Day_Wednesday Importance: 0.009316\n",
      "Predictor: Route_DEL → BOM → COK Importance: 0.006337\n",
      "Predictor: Destination_Hyderabad Importance: 0.005436\n",
      "Predictor: Day_Thursday Importance: 0.005349\n",
      "Predictor: Additional_Info_No info Importance: 0.00526\n",
      "Predictor: Airline_Air India Importance: 0.005248\n",
      "Predictor: Airline_IndiGo Importance: 0.005138\n",
      "Predictor: Day_Saturday Importance: 0.00422\n",
      "Predictor: Destination_Cochin Importance: 0.004162\n",
      "Predictor: Route_DEL → JDH → BOM → COK Importance: 0.003973\n",
      "Predictor: Airline_Vistara Importance: 0.003866\n",
      "Predictor: Day_Tuesday Importance: 0.003726\n",
      "Predictor: Route_DEL → HYD → MAA → COK Importance: 0.003566\n",
      "Predictor: Destination_Banglore Importance: 0.003078\n",
      "Predictor: Airline_SpiceJet Importance: 0.002739\n",
      "Predictor: Route_DEL → HYD → COK Importance: 0.002238\n",
      "Predictor: Airline_GoAir Importance: 0.002059\n",
      "Predictor: Route_DEL → IDR → BOM → COK Importance: 0.001911\n",
      "Predictor: Route_CCU → DEL → BLR Importance: 0.001876\n",
      "Predictor: Route_CCU → GAU → BLR Importance: 0.001793\n",
      "Predictor: Route_BOM → JDH → DEL → HYD Importance: 0.001769\n",
      "Predictor: Airline_Air Asia Importance: 0.00169\n",
      "Predictor: Route_CCU → BBI → HYD → BLR Importance: 0.001553\n",
      "Predictor: Route_DEL → AMD → BOM → COK Importance: 0.001441\n",
      "Predictor: Route_BOM → HYD Importance: 0.001352\n",
      "Predictor: Route_BLR → BOM → NAG → DEL Importance: 0.00135\n",
      "Predictor: Route_CCU → PAT → BLR Importance: 0.001283\n",
      "Predictor: Additional_Info_1 Short layover Importance: 0.00126\n",
      "Predictor: Route_DEL → ATQ → BOM → COK Importance: 0.001252\n",
      "Predictor: Route_CCU → HYD → BLR Importance: 0.001162\n",
      "Predictor: Route_CCU → BOM → BLR Importance: 0.001121\n",
      "Predictor: Route_DEL → BLR → COK Importance: 0.001062\n",
      "Predictor: Route_BOM → GOI → PNQ → HYD Importance: 0.00102\n",
      "Predictor: Route_CCU → BBI → BOM → BLR Importance: 0.000894\n",
      "Predictor: Route_CCU → BLR Importance: 0.000844\n",
      "Predictor: Route_BOM → DEL → HYD Importance: 0.000798\n",
      "Predictor: Route_DEL → BHO → BOM → COK Importance: 0.000772\n",
      "Predictor: Route_BLR → HYD → DEL Importance: 0.000761\n",
      "Predictor: Route_MAA → CCU Importance: 0.000734\n",
      "Predictor: Route_DEL → CCU → BOM → COK Importance: 0.000727\n",
      "Predictor: Destination_Kolkata Importance: 0.000701\n",
      "Predictor: Route_DEL → MAA → COK Importance: 0.000673\n",
      "Predictor: Destination_Delhi Importance: 0.000607\n",
      "Predictor: Airline_Multiple carriers Premium economy Importance: 0.000581\n",
      "Predictor: Route_BLR → DEL Importance: 0.000539\n",
      "Predictor: Route_BLR → MAA → DEL Importance: 0.000477\n",
      "Predictor: Route_DEL → JAI → BOM → COK Importance: 0.000473\n",
      "Predictor: Route_DEL → PNQ → COK Importance: 0.00047\n",
      "Predictor: Route_CCU → MAA → BLR Importance: 0.000466\n",
      "Predictor: Route_DEL → BBI → COK Importance: 0.000421\n",
      "Predictor: Route_CCU → VNS → DEL → BLR Importance: 0.000409\n",
      "Predictor: Route_DEL → UDR → BOM → COK Importance: 0.000397\n",
      "Predictor: Route_BLR → CCU → DEL Importance: 0.000328\n",
      "Predictor: Route_DEL → GOI → BOM → COK Importance: 0.000284\n",
      "Predictor: Additional_Info_1 Long layover Importance: 0.000283\n",
      "Predictor: Route_CCU → GAU → DEL → BLR Importance: 0.000267\n",
      "Predictor: Route_DEL → BDQ → BOM → COK Importance: 0.000258\n",
      "Predictor: Route_BLR → BOM → JDH → DEL Importance: 0.000246\n",
      "Predictor: Route_BLR → BOM → AMD → DEL Importance: 0.000234\n",
      "Predictor: Route_CCU → IXB → BLR Importance: 0.000223\n",
      "Predictor: Route_BLR → NAG → DEL Importance: 0.000222\n",
      "Predictor: Route_DEL → DED → BOM → COK Importance: 0.000217\n",
      "Predictor: Route_BLR → CCU → BBI → DEL Importance: 0.000215\n",
      "Predictor: Route_BOM → CCU → HYD Importance: 0.000207\n",
      "Predictor: Route_DEL → HYD → BOM → COK Importance: 0.000203\n",
      "Predictor: Route_BLR → AMD → DEL Importance: 0.000198\n",
      "Predictor: Route_DEL → COK Importance: 0.000188\n",
      "Predictor: Airline_Vistara Premium economy Importance: 0.000185\n",
      "Predictor: Route_DEL → IXC → BOM → COK Importance: 0.000185\n",
      "Predictor: Route_CCU → IXR → DEL → BLR Importance: 0.000176\n",
      "Predictor: Route_BLR → BOM → IDR → DEL Importance: 0.000175\n",
      "Predictor: Route_DEL → LKO → BOM → COK Importance: 0.000175\n",
      "Predictor: Route_BOM → JDH → JAI → DEL → HYD Importance: 0.000172\n",
      "Predictor: Additional_Info_No check-in baggage included Importance: 0.000169\n",
      "Predictor: Route_DEL → NAG → BOM → COK Importance: 0.000163\n",
      "Predictor: Route_BLR → GAU → DEL Importance: 0.000157\n",
      "Predictor: Route_DEL → IXU → BOM → COK Importance: 0.000157\n",
      "Predictor: Route_DEL → MAA → BOM → COK Importance: 0.000153\n",
      "Predictor: Route_BLR → BDQ → DEL Importance: 0.000151\n",
      "Predictor: Route_CCU → JAI → BOM → BLR Importance: 0.000139\n",
      "Predictor: Route_CCU → BOM → AMD → BLR Importance: 0.000134\n",
      "Predictor: Route_DEL → GWL → IDR → BOM → COK Importance: 0.000131\n",
      "Predictor: Additional_Info_Change airports Importance: 0.000122\n",
      "Predictor: Route_BOM → JAI → DEL → HYD Importance: 0.000119\n",
      "Predictor: Route_CCU → PNQ → BLR Importance: 0.000118\n",
      "Predictor: Route_CCU → AMD → BLR Importance: 0.000116\n",
      "Predictor: Route_BLR → HYD → VGA → DEL Importance: 0.000112\n",
      "Predictor: Route_BLR → VGA → HYD → DEL Importance: 0.000103\n",
      "Predictor: Route_BOM → AMD → ISK → HYD Importance: 9.3e-05\n",
      "Predictor: Route_CCU → GAU → IMF → DEL → BLR Importance: 9.2e-05\n",
      "Predictor: Route_CCU → DEL → AMD → BLR Importance: 8.9e-05\n",
      "Predictor: Route_DEL → LKO → COK Importance: 8.8e-05\n",
      "Predictor: Route_BLR → COK → DEL Importance: 8.5e-05\n",
      "Predictor: Route_BOM → BBI → HYD Importance: 7.9e-05\n",
      "Predictor: Route_CCU → DEL → COK → BLR Importance: 7.9e-05\n",
      "Predictor: Route_BLR → VGA → DEL Importance: 7.3e-05\n",
      "Predictor: Route_CCU → BBI → BLR Importance: 7.3e-05\n",
      "Predictor: Route_BOM → MAA → HYD Importance: 7e-05\n",
      "Predictor: Route_CCU → BOM → HBX → BLR Importance: 7e-05\n",
      "Predictor: Route_BLR → BBI → DEL Importance: 6.3e-05\n",
      "Predictor: Route_CCU → IXR → BBI → BLR Importance: 5.9e-05\n",
      "Predictor: Route_DEL → TRV → COK Importance: 5.8e-05\n",
      "Predictor: Route_BOM → BLR → HYD Importance: 5.7e-05\n",
      "Predictor: Route_DEL → RPR → NAG → BOM → COK Importance: 5.7e-05\n",
      "Predictor: Route_BLR → BOM → BHO → DEL Importance: 5.6e-05\n",
      "Predictor: Route_CCU → BOM → GOI → BLR Importance: 5.4e-05\n",
      "Predictor: Route_BLR → VGA → VTZ → DEL Importance: 5.3e-05\n",
      "Predictor: Route_BLR → GOI → DEL Importance: 5.1e-05\n",
      "Predictor: Route_BOM → COK → MAA → HYD Importance: 5.1e-05\n",
      "Predictor: Route_CCU → BOM → COK → BLR Importance: 5e-05\n",
      "Predictor: Route_BLR → CCU → GAU → DEL Importance: 4.6e-05\n",
      "Predictor: Route_CCU → KNU → BLR Importance: 4.5e-05\n",
      "Predictor: Route_CCU → IXB → DEL → BLR Importance: 3.7e-05\n",
      "Predictor: Route_BOM → DED → DEL → HYD Importance: 3.3e-05\n",
      "Predictor: Route_CCU → DEL → VGA → BLR Importance: 2.7e-05\n",
      "Predictor: Route_DEL → AMD → COK Importance: 2.6e-05\n",
      "Predictor: Route_BLR → CCU → BBI → HYD → VGA → DEL Importance: 2.5e-05\n",
      "Predictor: Additional_Info_Red-eye flight Importance: 2.5e-05\n",
      "Predictor: Additional_Info_No Info Importance: 2e-05\n",
      "Predictor: Route_BLR → PNQ → DEL Importance: 1.8e-05\n",
      "Predictor: Route_BLR → IDR → DEL Importance: 1.7e-05\n",
      "Predictor: Route_BLR → LKO → DEL Importance: 1.7e-05\n",
      "Predictor: Route_BOM → BHO → DEL → HYD Importance: 1.6e-05\n",
      "Predictor: Route_BOM → GOI → HYD Importance: 1.3e-05\n",
      "Predictor: Route_BOM → VNS → DEL → HYD Importance: 1.3e-05\n",
      "Predictor: Route_CCU → NAG → BLR Importance: 1.1e-05\n",
      "Predictor: Route_BOM → IDR → DEL → HYD Importance: 9e-06\n",
      "Predictor: Route_BOM → BLR → CCU → BBI → HYD Importance: 7e-06\n",
      "Predictor: Route_BOM → RPR → VTZ → HYD Importance: 7e-06\n",
      "Predictor: Route_CCU → BBI → IXR → DEL → BLR Importance: 6e-06\n",
      "Predictor: Route_CCU → RPR → HYD → BLR Importance: 6e-06\n",
      "Predictor: Route_BLR → HBX → BOM → BHO → DEL Importance: 5e-06\n",
      "Predictor: Route_CCU → JAI → DEL → BLR Importance: 5e-06\n",
      "Predictor: Route_BLR → BOM → IDR → GWL → DEL Importance: 4e-06\n",
      "Predictor: Route_BLR → CCU → BBI → HYD → DEL Importance: 4e-06\n",
      "Predictor: Route_BOM → BDQ → DEL → HYD Importance: 4e-06\n",
      "Predictor: Route_CCU → BOM → TRV → BLR Importance: 4e-06\n",
      "Predictor: Route_CCU → IXA → BLR Importance: 4e-06\n",
      "Predictor: Route_BLR → BOM → UDR → DEL Importance: 3e-06\n",
      "Predictor: Route_BLR → HBX → BOM → AMD → DEL Importance: 3e-06\n",
      "Predictor: Route_CCU → BOM → PNQ → BLR Importance: 2e-06\n",
      "Predictor: Route_CCU → DEL → COK → TRV → BLR Importance: 2e-06\n",
      "Predictor: Route_BLR → HBX → BOM → NAG → DEL Importance: 1e-06\n",
      "Predictor: Route_BLR → STV → DEL Importance: 1e-06\n",
      "Predictor: Airline_Trujet Importance: 0.0\n",
      "Predictor: Route_BLR → BOM → IXC → DEL Importance: 0.0\n",
      "Predictor: Route_BLR → TRV → COK → DEL Importance: 0.0\n",
      "Predictor: Route_BOM → JLR → HYD Importance: 0.0\n",
      "Predictor: Route_BOM → NDC → HYD Importance: 0.0\n",
      "Predictor: Route_BOM → UDR → DEL → HYD Importance: 0.0\n",
      "Predictor: Route_CCU → IXZ → MAA → BLR Importance: 0.0\n",
      "Predictor: Route_CCU → VTZ → BLR Importance: 0.0\n",
      "Predictor: Additional_Info_2 Long layover Importance: 0.0\n"
     ]
    }
   ],
   "source": [
    "import pandas as pd\n",
    "import numpy as np\n",
    "import matplotlib.pyplot as plt\n",
    "from sklearn.ensemble import RandomForestRegressor\n",
    "from sklearn.model_selection import train_test_split\n",
    "\n",
    "data = pd.read_csv('Flight_Ticket_clean_data.csv')\n",
    "data['Date'] = '2019-' + data['departure_month'].map(str) + '-' + data['departure_day'].map(str)\n",
    "data.Date = pd.to_datetime(data.Date)\n",
    "data['Day'] = data.Date.dt.day_name()\n",
    "\n",
    "data['Duration'] = data['duration_hour'] * 60 + data['duration_min']\n",
    "data.drop(labels=['Source'], axis=1, inplace=True)\n",
    "\n",
    "features = pd.get_dummies(data)\n",
    "features.drop(labels=['Price', 'Date', 'departure_month',\n",
    "                    'duration_hour', 'duration_min',\n",
    "                    'departure_day', 'departure_hour',\n",
    "                    'departure_min', 'arrival_hour', 'arrival_min'], axis=1, inplace=True)\n",
    "labels = data['Price']\n",
    "\n",
    "train_features, test_features, train_labels, test_labels = train_test_split(features, labels, test_size = 0.3, random_state = 3)\n",
    "\n",
    "rf = RandomForestRegressor(n_estimators=1000, random_state=3)\n",
    "rf.fit(train_features, train_labels)\n",
    "\n",
    "importances = list(rf.feature_importances_)\n",
    "feature_importances = [(feature, round(importance, 6)) for feature, importance in zip(features.columns, importances)]\n",
    "feature_importances = sorted(feature_importances, key=lambda x: x[1], reverse=True)\n",
    "[print('Predictor: {} Importance: {}'.format(*pair)) for pair in feature_importances];\n"
   ]
  },
  {
   "cell_type": "markdown",
   "metadata": {},
   "source": [
    "# Results: summarize and visualize the results discovered from the analysis\n",
    "\n",
    "Please use figures, tables, or videos to communicate the results with the audience.\n"
   ]
  },
  {
   "cell_type": "code",
   "execution_count": 5,
   "metadata": {},
   "outputs": [
    {
     "name": "stdout",
     "output_type": "stream",
     "text": [
      "Mean Absolute Error: 1297.5639956508933\n",
      "Mean Absolute Percentage Error: 14.872797259010149\n"
     ]
    }
   ],
   "source": [
    "# Predictions\n",
    "preds = rf.predict(test_features)\n",
    "\n",
    "# Mean absolute error\n",
    "errors = abs(preds - test_labels)\n",
    "mae = np.mean(errors)\n",
    "print('Mean Absolute Error: ' + str(mae))\n",
    "\n",
    "# Absolute percentage error\n",
    "apes = 100 * (errors / test_labels)\n",
    "mape = np.mean(apes)\n",
    "print('Mean Absolute Percentage Error: ' + str(mape))"
   ]
  },
  {
   "cell_type": "markdown",
   "metadata": {},
   "source": [
    "As shown above, we obtain a mean absolute error of 1298 and a mean absolute percentage error of 14.87. In other words, on average our predicted price is off by about 14.87%."
   ]
  },
  {
   "cell_type": "code",
   "execution_count": 6,
   "metadata": {},
   "outputs": [
    {
     "data": {
      "text/plain": [
       "Text(0, 0.5, 'Absolute Percentage Error')"
      ]
     },
     "execution_count": 6,
     "metadata": {},
     "output_type": "execute_result"
    },
    {
     "data": {
      "image/png": "[encoded data removed]",
      "text/plain": [
       "<Figure size 432x288 with 1 Axes>"
      ]
     },
     "metadata": {},
     "output_type": "display_data"
    }
   ],
   "source": [
    "plt.scatter(test_labels[:500], apes[:500])\n",
    "plt.xlim(0, 40000)\n",
    "plt.xlabel('Actual Price')\n",
    "plt.ylabel('Absolute Percentage Error')"
   ]
  },
  {
   "cell_type": "markdown",
   "metadata": {},
   "source": [
    "In the above plot we try to examine if there is a correlation between our error percentage and the actual price of the flight. From this we cannot find any meaningful connection between the two values. It may appear that there are more very high error rates on the lower priced flights, but this is just because there are more lower priced flights in general. This is more likely due to chance than anything else."
   ]
  },
  {
   "cell_type": "code",
   "execution_count": 7,
   "metadata": {},
   "outputs": [
    {
     "data": {
      "text/plain": [
       "Text(0, 0.5, 'Frequency')"
      ]
     },
     "execution_count": 7,
     "metadata": {},
     "output_type": "execute_result"
    },
    {
     "data": {
      "image/png": "[encoded data removed]",
      "text/plain": [
       "<Figure size 432x288 with 1 Axes>"
      ]
     },
     "metadata": {},
     "output_type": "display_data"
    }
   ],
   "source": [
    "rounded_apes = np.round(apes, 0)\n",
    "plt.hist(rounded_apes, bins=20, range=(0, 100))\n",
    "plt.xlabel('Percent Error')\n",
    "plt.ylabel('Frequency')"
   ]
  },
  {
   "cell_type": "markdown",
   "metadata": {},
   "source": [
    "This histogram shows the frequency of various error percentages in our predictions. We can see that errors of 0-5% are most common, then errors of 5-10% and so on. There are no particularly suprising outliers here."
   ]
  }
 ],
 "metadata": {
  "kernelspec": {
   "display_name": "Python 3",
   "language": "python",
   "name": "python3"
  },
  "language_info": {
   "codemirror_mode": {
    "name": "ipython",
    "version": 3
   },
   "file_extension": ".py",
   "mimetype": "text/x-python",
   "name": "python",
   "nbconvert_exporter": "python",
   "pygments_lexer": "ipython3",
   "version": "3.7.2"
  }
 },
 "nbformat": 4,
 "nbformat_minor": 1
}
