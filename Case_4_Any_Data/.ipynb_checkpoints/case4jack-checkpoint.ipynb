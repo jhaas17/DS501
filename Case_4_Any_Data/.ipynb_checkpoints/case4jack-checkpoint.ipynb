{
 "cells": [
  {
   "cell_type": "markdown",
   "metadata": {},
   "source": [
    "# Case Study 4 : Data Science in Any Data You Like"
   ]
  },
  {
   "cell_type": "markdown",
   "metadata": {},
   "source": [
    "**Required Readings:** \n",
    "* In this case study, you could use any data as you like.\n",
    "* [TED Talks](https://www.ted.com/talks) for examples of 7 minutes talks.\n",
    "\n",
    "\n",
    "** NOTE **\n",
    "* Please don't forget to save the notebook frequently when working in Jupyter Notebook, otherwise the changes you made can be lost.\n",
    "\n",
    "*----------------------"
   ]
  },
  {
   "cell_type": "markdown",
   "metadata": {},
   "source": [
    "# Problem: pick a data science problem that you plan to solve using your Data\n",
    "* The problem should be important and interesting, which has a potential impact in some area.\n",
    "* The problem should be solvable using the data and data science solutions.\n",
    "\n",
    "Please briefly describe in the following cell: what problem are you trying to solve? why this problem is important and interesting?"
   ]
  },
  {
   "cell_type": "code",
   "execution_count": 120,
   "metadata": {},
   "outputs": [
    {
     "name": "stdout",
     "output_type": "stream",
     "text": [
      "1649.6882717397539\n",
      "18.578466361713783\n",
      "Index(['total_stops_int', 'Duration', 'Airline_Air Asia', 'Airline_Air India',\n",
      "       'Airline_GoAir', 'Airline_IndiGo', 'Airline_Jet Airways',\n",
      "       'Airline_Jet Airways Business', 'Airline_Multiple carriers',\n",
      "       'Airline_Multiple carriers Premium economy',\n",
      "       ...\n",
      "       'Route_DEL → TRV → COK', 'Route_DEL → UDR → BOM → COK',\n",
      "       'Route_MAA → CCU', 'Day_Friday', 'Day_Monday', 'Day_Saturday',\n",
      "       'Day_Sunday', 'Day_Thursday', 'Day_Tuesday', 'Day_Wednesday'],\n",
      "      dtype='object', length=155)\n",
      "Variable: Duration             Importance: 0.58\n",
      "Variable: Airline_Jet Airways Business Importance: 0.08\n",
      "Variable: Airline_Jet Airways  Importance: 0.07\n",
      "Variable: total_stops_int      Importance: 0.03\n",
      "Variable: Route_BLR → BOM → DEL Importance: 0.03\n",
      "Variable: Day_Friday           Importance: 0.03\n",
      "Variable: Airline_Multiple carriers Importance: 0.02\n",
      "Variable: Airline_Air India    Importance: 0.01\n",
      "Variable: Airline_IndiGo       Importance: 0.01\n",
      "Variable: Destination_Hyderabad Importance: 0.01\n",
      "Variable: Destination_New Delhi Importance: 0.01\n",
      "Variable: Route_DEL → BOM → COK Importance: 0.01\n",
      "Variable: Day_Monday           Importance: 0.01\n",
      "Variable: Day_Saturday         Importance: 0.01\n",
      "Variable: Day_Sunday           Importance: 0.01\n",
      "Variable: Day_Thursday         Importance: 0.01\n",
      "Variable: Day_Wednesday        Importance: 0.01\n",
      "Variable: Airline_Air Asia     Importance: 0.0\n",
      "Variable: Airline_GoAir        Importance: 0.0\n",
      "Variable: Airline_Multiple carriers Premium economy Importance: 0.0\n",
      "Variable: Airline_SpiceJet     Importance: 0.0\n",
      "Variable: Airline_Trujet       Importance: 0.0\n",
      "Variable: Airline_Vistara      Importance: 0.0\n",
      "Variable: Airline_Vistara Premium economy Importance: 0.0\n",
      "Variable: Destination_Banglore Importance: 0.0\n",
      "Variable: Destination_Cochin   Importance: 0.0\n",
      "Variable: Destination_Delhi    Importance: 0.0\n",
      "Variable: Destination_Kolkata  Importance: 0.0\n",
      "Variable: Route_BLR → AMD → DEL Importance: 0.0\n",
      "Variable: Route_BLR → BBI → DEL Importance: 0.0\n",
      "Variable: Route_BLR → BDQ → DEL Importance: 0.0\n",
      "Variable: Route_BLR → BOM → AMD → DEL Importance: 0.0\n",
      "Variable: Route_BLR → BOM → BHO → DEL Importance: 0.0\n",
      "Variable: Route_BLR → BOM → IDR → DEL Importance: 0.0\n",
      "Variable: Route_BLR → BOM → IDR → GWL → DEL Importance: 0.0\n",
      "Variable: Route_BLR → BOM → IXC → DEL Importance: 0.0\n",
      "Variable: Route_BLR → BOM → JDH → DEL Importance: 0.0\n",
      "Variable: Route_BLR → BOM → NAG → DEL Importance: 0.0\n",
      "Variable: Route_BLR → BOM → UDR → DEL Importance: 0.0\n",
      "Variable: Route_BLR → CCU → BBI → DEL Importance: 0.0\n",
      "Variable: Route_BLR → CCU → BBI → HYD → DEL Importance: 0.0\n",
      "Variable: Route_BLR → CCU → BBI → HYD → VGA → DEL Importance: 0.0\n",
      "Variable: Route_BLR → CCU → DEL Importance: 0.0\n",
      "Variable: Route_BLR → CCU → GAU → DEL Importance: 0.0\n",
      "Variable: Route_BLR → COK → DEL Importance: 0.0\n",
      "Variable: Route_BLR → DEL      Importance: 0.0\n",
      "Variable: Route_BLR → GAU → DEL Importance: 0.0\n",
      "Variable: Route_BLR → GOI → DEL Importance: 0.0\n",
      "Variable: Route_BLR → HBX → BOM → AMD → DEL Importance: 0.0\n",
      "Variable: Route_BLR → HBX → BOM → BHO → DEL Importance: 0.0\n",
      "Variable: Route_BLR → HBX → BOM → NAG → DEL Importance: 0.0\n",
      "Variable: Route_BLR → HYD → DEL Importance: 0.0\n",
      "Variable: Route_BLR → HYD → VGA → DEL Importance: 0.0\n",
      "Variable: Route_BLR → IDR → DEL Importance: 0.0\n",
      "Variable: Route_BLR → LKO → DEL Importance: 0.0\n",
      "Variable: Route_BLR → MAA → DEL Importance: 0.0\n",
      "Variable: Route_BLR → NAG → DEL Importance: 0.0\n",
      "Variable: Route_BLR → PNQ → DEL Importance: 0.0\n",
      "Variable: Route_BLR → STV → DEL Importance: 0.0\n",
      "Variable: Route_BLR → TRV → COK → DEL Importance: 0.0\n",
      "Variable: Route_BLR → VGA → DEL Importance: 0.0\n",
      "Variable: Route_BLR → VGA → HYD → DEL Importance: 0.0\n",
      "Variable: Route_BLR → VGA → VTZ → DEL Importance: 0.0\n",
      "Variable: Route_BOM → AMD → ISK → HYD Importance: 0.0\n",
      "Variable: Route_BOM → BBI → HYD Importance: 0.0\n",
      "Variable: Route_BOM → BDQ → DEL → HYD Importance: 0.0\n",
      "Variable: Route_BOM → BHO → DEL → HYD Importance: 0.0\n",
      "Variable: Route_BOM → BLR → CCU → BBI → HYD Importance: 0.0\n",
      "Variable: Route_BOM → BLR → HYD Importance: 0.0\n",
      "Variable: Route_BOM → CCU → HYD Importance: 0.0\n",
      "Variable: Route_BOM → COK → MAA → HYD Importance: 0.0\n",
      "Variable: Route_BOM → DED → DEL → HYD Importance: 0.0\n",
      "Variable: Route_BOM → DEL → HYD Importance: 0.0\n",
      "Variable: Route_BOM → GOI → HYD Importance: 0.0\n",
      "Variable: Route_BOM → GOI → PNQ → HYD Importance: 0.0\n",
      "Variable: Route_BOM → HYD      Importance: 0.0\n",
      "Variable: Route_BOM → IDR → DEL → HYD Importance: 0.0\n",
      "Variable: Route_BOM → JAI → DEL → HYD Importance: 0.0\n",
      "Variable: Route_BOM → JDH → DEL → HYD Importance: 0.0\n",
      "Variable: Route_BOM → JDH → JAI → DEL → HYD Importance: 0.0\n",
      "Variable: Route_BOM → JLR → HYD Importance: 0.0\n",
      "Variable: Route_BOM → MAA → HYD Importance: 0.0\n",
      "Variable: Route_BOM → NDC → HYD Importance: 0.0\n",
      "Variable: Route_BOM → RPR → VTZ → HYD Importance: 0.0\n",
      "Variable: Route_BOM → UDR → DEL → HYD Importance: 0.0\n",
      "Variable: Route_BOM → VNS → DEL → HYD Importance: 0.0\n",
      "Variable: Route_CCU → AMD → BLR Importance: 0.0\n",
      "Variable: Route_CCU → BBI → BLR Importance: 0.0\n",
      "Variable: Route_CCU → BBI → BOM → BLR Importance: 0.0\n",
      "Variable: Route_CCU → BBI → HYD → BLR Importance: 0.0\n",
      "Variable: Route_CCU → BBI → IXR → DEL → BLR Importance: 0.0\n",
      "Variable: Route_CCU → BLR      Importance: 0.0\n",
      "Variable: Route_CCU → BOM → AMD → BLR Importance: 0.0\n",
      "Variable: Route_CCU → BOM → BLR Importance: 0.0\n",
      "Variable: Route_CCU → BOM → COK → BLR Importance: 0.0\n",
      "Variable: Route_CCU → BOM → GOI → BLR Importance: 0.0\n",
      "Variable: Route_CCU → BOM → HBX → BLR Importance: 0.0\n",
      "Variable: Route_CCU → BOM → PNQ → BLR Importance: 0.0\n",
      "Variable: Route_CCU → BOM → TRV → BLR Importance: 0.0\n",
      "Variable: Route_CCU → DEL → AMD → BLR Importance: 0.0\n",
      "Variable: Route_CCU → DEL → BLR Importance: 0.0\n",
      "Variable: Route_CCU → DEL → COK → BLR Importance: 0.0\n",
      "Variable: Route_CCU → DEL → COK → TRV → BLR Importance: 0.0\n",
      "Variable: Route_CCU → DEL → VGA → BLR Importance: 0.0\n",
      "Variable: Route_CCU → GAU → BLR Importance: 0.0\n",
      "Variable: Route_CCU → GAU → DEL → BLR Importance: 0.0\n",
      "Variable: Route_CCU → GAU → IMF → DEL → BLR Importance: 0.0\n",
      "Variable: Route_CCU → HYD → BLR Importance: 0.0\n",
      "Variable: Route_CCU → IXA → BLR Importance: 0.0\n",
      "Variable: Route_CCU → IXB → BLR Importance: 0.0\n",
      "Variable: Route_CCU → IXB → DEL → BLR Importance: 0.0\n",
      "Variable: Route_CCU → IXR → BBI → BLR Importance: 0.0\n",
      "Variable: Route_CCU → IXR → DEL → BLR Importance: 0.0\n",
      "Variable: Route_CCU → IXZ → MAA → BLR Importance: 0.0\n",
      "Variable: Route_CCU → JAI → BOM → BLR Importance: 0.0\n",
      "Variable: Route_CCU → JAI → DEL → BLR Importance: 0.0\n",
      "Variable: Route_CCU → KNU → BLR Importance: 0.0\n",
      "Variable: Route_CCU → MAA → BLR Importance: 0.0\n",
      "Variable: Route_CCU → NAG → BLR Importance: 0.0\n",
      "Variable: Route_CCU → PAT → BLR Importance: 0.0\n",
      "Variable: Route_CCU → PNQ → BLR Importance: 0.0\n",
      "Variable: Route_CCU → RPR → HYD → BLR Importance: 0.0\n",
      "Variable: Route_CCU → VNS → DEL → BLR Importance: 0.0\n",
      "Variable: Route_CCU → VTZ → BLR Importance: 0.0\n",
      "Variable: Route_DEL → AMD → BOM → COK Importance: 0.0\n",
      "Variable: Route_DEL → AMD → COK Importance: 0.0\n",
      "Variable: Route_DEL → ATQ → BOM → COK Importance: 0.0\n",
      "Variable: Route_DEL → BBI → COK Importance: 0.0\n",
      "Variable: Route_DEL → BDQ → BOM → COK Importance: 0.0\n",
      "Variable: Route_DEL → BHO → BOM → COK Importance: 0.0\n",
      "Variable: Route_DEL → BLR → COK Importance: 0.0\n",
      "Variable: Route_DEL → CCU → BOM → COK Importance: 0.0\n",
      "Variable: Route_DEL → COK      Importance: 0.0\n",
      "Variable: Route_DEL → DED → BOM → COK Importance: 0.0\n",
      "Variable: Route_DEL → GOI → BOM → COK Importance: 0.0\n",
      "Variable: Route_DEL → GWL → IDR → BOM → COK Importance: 0.0\n",
      "Variable: Route_DEL → HYD → BOM → COK Importance: 0.0\n",
      "Variable: Route_DEL → HYD → COK Importance: 0.0\n",
      "Variable: Route_DEL → HYD → MAA → COK Importance: 0.0\n",
      "Variable: Route_DEL → IDR → BOM → COK Importance: 0.0\n",
      "Variable: Route_DEL → IXC → BOM → COK Importance: 0.0\n",
      "Variable: Route_DEL → IXU → BOM → COK Importance: 0.0\n",
      "Variable: Route_DEL → JAI → BOM → COK Importance: 0.0\n",
      "Variable: Route_DEL → JDH → BOM → COK Importance: 0.0\n",
      "Variable: Route_DEL → LKO → BOM → COK Importance: 0.0\n",
      "Variable: Route_DEL → LKO → COK Importance: 0.0\n",
      "Variable: Route_DEL → MAA → BOM → COK Importance: 0.0\n",
      "Variable: Route_DEL → MAA → COK Importance: 0.0\n",
      "Variable: Route_DEL → NAG → BOM → COK Importance: 0.0\n",
      "Variable: Route_DEL → PNQ → COK Importance: 0.0\n",
      "Variable: Route_DEL → RPR → NAG → BOM → COK Importance: 0.0\n",
      "Variable: Route_DEL → TRV → COK Importance: 0.0\n",
      "Variable: Route_DEL → UDR → BOM → COK Importance: 0.0\n",
      "Variable: Route_MAA → CCU      Importance: 0.0\n",
      "Variable: Day_Tuesday          Importance: 0.0\n"
     ]
    },
    {
     "data": {
      "text/plain": [
       "<matplotlib.collections.PathCollection at 0x7fd3145d8d68>"
      ]
     },
     "execution_count": 120,
     "metadata": {},
     "output_type": "execute_result"
    }
   ],
   "source": [
    "import pandas as pd\n",
    "import numpy as np\n",
    "import matplotlib.pyplot as plt\n",
    "from sklearn.ensemble import RandomForestRegressor\n",
    "from sklearn.model_selection import train_test_split\n",
    "\n",
    "data = pd.read_csv('Flight_Ticket_clean_data.csv')\n",
    "data['Date'] = '2019-' + data['departure_month'].map(str) + '-' + data['departure_day'].map(str)\n",
    "data.Date = pd.to_datetime(data.Date)\n",
    "data['Day'] = data.Date.dt.day_name()\n",
    "\n",
    "data['Duration'] = data['duration_hour'] * 60 + data['duration_min']\n",
    "data.drop(labels=['Source'], axis=1, inplace=True)\n",
    "\n",
    "features = pd.get_dummies(data)\n",
    "features.drop(labels=['Price', 'Date', 'departure_month',\n",
    "                    'duration_hour', 'duration_min',\n",
    "                    'departure_day', 'departure_hour',\n",
    "                    'departure_min', 'arrival_hour', 'arrival_min'], axis=1, inplace=True)\n",
    "labels = data['Price']\n",
    "\n",
    "train_features, test_features, train_labels, test_labels = train_test_split(features, labels, test_size = 0.3, random_state = 3)\n",
    "\n",
    "rf = RandomForestRegressor(n_estimators=1000, random_state=3)\n",
    "rf.fit(train_features, train_labels)\n",
    "\n",
    "# Mean absolute error\n",
    "preds = rf.predict(test_features)\n",
    "errors = abs(preds - test_labels)\n",
    "mae = np.mean(errors)\n",
    "print(np.mean(errors))\n",
    "\n",
    "# Absolute percentage error\n",
    "apes = 100 * (errors / test_labels)\n",
    "mape = np.mean(apes)\n",
    "print(mape)\n",
    "\n",
    "print(features.columns)\n",
    "\n",
    "\n",
    "\n",
    "# Get numerical feature importances\n",
    "importances = list(rf.feature_importances_)# List of tuples with variable and importance\n",
    "feature_importances = [(feature, round(importance, 2)) for feature, importance in zip(list(features.columns), importances)]# Sort the feature importances by most important first\n",
    "feature_importances = sorted(feature_importances, key = lambda x: x[1], reverse = True)# Print out the feature and importances \n",
    "[print('Variable: {:20} Importance: {}'.format(*pair)) for pair in feature_importances];\n"
   ]
  },
  {
   "cell_type": "code",
   "execution_count": 122,
   "metadata": {},
   "outputs": [
    {
     "data": {
      "text/plain": [
       "(0, 40000)"
      ]
     },
     "execution_count": 122,
     "metadata": {},
     "output_type": "execute_result"
    },
    {
     "data": {
      "image/png": "[encoded data removed]",
      "text/plain": [
       "<Figure size 432x288 with 1 Axes>"
      ]
     },
     "metadata": {
      "needs_background": "light"
     },
     "output_type": "display_data"
    }
   ],
   "source": [
    "plt.scatter(test_labels, apes)\n",
    "plt.xlim(0, 40000)"
   ]
  },
  {
   "cell_type": "markdown",
   "metadata": {},
   "source": [
    "\n",
    "# Data Collection/Processing: "
   ]
  },
  {
   "cell_type": "code",
   "execution_count": null,
   "metadata": {
    "collapsed": true
   },
   "outputs": [],
   "source": [
    "#----------------------------------------------\n",
    "# Your code starts here\n",
    "#   Please add comments or text cells in between to explain the general idea of each block of the code.\n",
    "#   Please feel free to add more cells below this cell if necessary\n",
    "\n",
    "\n",
    "\n",
    "\n"
   ]
  },
  {
   "cell_type": "markdown",
   "metadata": {},
   "source": [
    "# Data Exploration: Exploring the your data\n",
    "\n",
    "** plot some properties/statistics/distribution of your data** "
   ]
  },
  {
   "cell_type": "code",
   "execution_count": 30,
   "metadata": {},
   "outputs": [],
   "source": [
    "# Your code starts here\n",
    "#   Please add comments or text cells in between to explain the general idea of each block of the code.\n",
    "#   Please feel free to add more cells below this cell if necessary\n",
    "\n",
    "\n",
    "\n",
    "\n",
    "\n",
    "\n",
    "\n",
    "\n",
    "\n",
    "\n",
    "\n",
    "\n",
    "\n"
   ]
  },
  {
   "cell_type": "markdown",
   "metadata": {},
   "source": [
    "# The Solution: implement a data science solution to the problem you are trying to solve."
   ]
  },
  {
   "cell_type": "markdown",
   "metadata": {},
   "source": [
    "Briefly describe the idea of your solution to the problem in the following cell:"
   ]
  },
  {
   "cell_type": "code",
   "execution_count": null,
   "metadata": {
    "collapsed": true
   },
   "outputs": [],
   "source": [
    "\n",
    "\n",
    "\n",
    "\n",
    "\n",
    "\n",
    "\n",
    "\n",
    "\n",
    "\n"
   ]
  },
  {
   "cell_type": "markdown",
   "metadata": {},
   "source": [
    "Write codes to implement the solution in python:"
   ]
  },
  {
   "cell_type": "code",
   "execution_count": 2,
   "metadata": {},
   "outputs": [],
   "source": [
    "# Your code starts here\n",
    "#   Please add comments or text cells in between to explain the general idea of each block of the code.\n",
    "#   Please feel free to add more cells below this cell if necessary\n",
    "\n",
    "\n",
    "\n",
    "\n",
    "\n",
    "\n",
    "\n",
    "\n",
    "\n",
    "\n",
    "\n",
    "\n",
    "\n"
   ]
  },
  {
   "cell_type": "markdown",
   "metadata": {},
   "source": [
    "# Results: summarize and visualize the results discovered from the analysis\n",
    "\n",
    "Please use figures, tables, or videos to communicate the results with the audience.\n"
   ]
  },
  {
   "cell_type": "code",
   "execution_count": null,
   "metadata": {
    "collapsed": true
   },
   "outputs": [],
   "source": [
    "# Your code starts here\n",
    "#   Please add comments or text cells in between to explain the general idea of each block of the code.\n",
    "#   Please feel free to add more cells below this cell if necessary\n",
    "\n",
    "\n",
    "\n",
    "\n",
    "\n",
    "\n"
   ]
  },
  {
   "cell_type": "markdown",
   "metadata": {},
   "source": [
    "*-----------------\n",
    "# Done\n",
    "\n",
    "All set! \n",
    "\n",
    "** What do you need to submit?**\n",
    "\n",
    "* **Notebook File**: Save this Jupyter notebook, and find the notebook file in your folder (for example, \"filename.ipynb\"). This is the file you need to submit. Please make sure all the plotted tables and figures are in the notebook. If you used \"jupyter notebook --pylab=inline\" to open the notebook, all the figures and tables should have shown up in the notebook.\n",
    "\n",
    "* **PPT Slides**: please prepare PPT slides (for 7 minutes' talk) to present about the case study . Each team present their case studies in class for 7 minutes.\n",
    "\n",
    "Please compress all the files in a zipped file.\n",
    "\n",
    "\n",
    "** How to submit: **\n",
    "\n",
    "        Please submit through Canvas, in the Assignment \"Case Study 4\".\n",
    "        \n",
    "** Note: Each team only needs to submit one submission in Canvas **"
   ]
  },
  {
   "cell_type": "code",
   "execution_count": null,
   "metadata": {
    "collapsed": true
   },
   "outputs": [],
   "source": []
  }
 ],
 "metadata": {
  "kernelspec": {
   "display_name": "Python 3",
   "language": "python",
   "name": "python3"
  },
  "language_info": {
   "codemirror_mode": {
    "name": "ipython",
    "version": 3
   },
   "file_extension": ".py",
   "mimetype": "text/x-python",
   "name": "python",
   "nbconvert_exporter": "python",
   "pygments_lexer": "ipython3",
   "version": "3.7.2"
  }
 },
 "nbformat": 4,
 "nbformat_minor": 1
}
