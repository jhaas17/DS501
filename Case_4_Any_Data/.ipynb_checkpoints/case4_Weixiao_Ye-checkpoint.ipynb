{
 "cells": [
  {
   "cell_type": "markdown",
   "metadata": {},
   "source": [
    "# Case Study 4 : Data Science in Any Data You Like"
   ]
  },
  {
   "cell_type": "markdown",
   "metadata": {},
   "source": [
    "**Required Readings:** \n",
    "* In this case study, you could use any data as you like.\n",
    "* [TED Talks](https://www.ted.com/talks) for examples of 7 minutes talks.\n",
    "\n",
    "\n",
    "** NOTE **\n",
    "* Please don't forget to save the notebook frequently when working in Jupyter Notebook, otherwise the changes you made can be lost.\n",
    "\n",
    "*----------------------"
   ]
  },
  {
   "cell_type": "markdown",
   "metadata": {},
   "source": [
    "# Problem: pick a data science problem that you plan to solve using your Data\n",
    "* The problem should be important and interesting, which has a potential impact in some area.\n",
    "* The problem should be solvable using the data and data science solutions.\n",
    "\n",
    "Please briefly describe in the following cell: what problem are you trying to solve? why this problem is important and interesting?"
   ]
  },
  {
   "cell_type": "code",
   "execution_count": null,
   "metadata": {
    "collapsed": true
   },
   "outputs": [],
   "source": [
    "There are different types of flights;\n",
    "The flight ticket price is changing all the time;\n",
    "THEREFORE, how to choose a flight that not only meets our travelling need but also costs economically?\n"
   ]
  },
  {
   "cell_type": "markdown",
   "metadata": {},
   "source": [
    "# Data Collection/Processing: "
   ]
  },
  {
   "cell_type": "code",
   "execution_count": null,
   "metadata": {
    "collapsed": true
   },
   "outputs": [],
   "source": [
    "#----------------------------------------------\n",
    "# Your code starts here\n",
    "#   Please add comments or text cells in between to explain the general idea of each block of the code.\n",
    "#   Please feel free to add more cells below this cell if necessary\n",
    "\n",
    "import pandas as pd\n",
    "import numpy as np\n",
    "import datetime\n",
    "import matplotlib.pyplot as plt\n",
    "from matplotlib import cm\n",
    "from colorspacious import cspace_converter\n",
    "from collections import OrderedDict\n",
    "from sklearn.preprocessing import LabelEncoder\n",
    "from sklearn.preprocessing import StandardScaler\n",
    "from sklearn.model_selection import KFold\n",
    "from sklearn.svm import SVR\n",
    "import matplotlib.pyplot as plt\n",
    "from matplotlib import cm\n",
    "from colorspacious import cspace_converter\n",
    "from collections import OrderedDict\n"
   ]
  },
  {
   "cell_type": "code",
   "execution_count": null,
   "metadata": {
    "collapsed": true
   },
   "outputs": [],
   "source": [
    "# LAX monthly operation data\n",
    "rawdata = pd.read_csv(\"los-angeles-international-airport-flight-operations-by-month.csv\")\n",
    "# MachineHack\n",
    "train = pd.read_excel(\"Data_Train.xlsx\")"
   ]
  },
  {
   "cell_type": "markdown",
   "metadata": {},
   "source": [
    "# Data Exploration: Exploring the your data\n",
    "\n",
    "** plot some properties/statistics/distribution of your data** "
   ]
  },
  {
   "cell_type": "code",
   "execution_count": 30,
   "metadata": {
    "collapsed": true
   },
   "outputs": [],
   "source": [
    "# Your code starts here\n",
    "#   Please add comments or text cells in between to explain the general idea of each block of the code.\n",
    "#   Please feel free to add more cells below this cell if necessary\n",
    "\n",
    "rawdata.head()\n",
    "df = rawdata\n",
    "df['year'] = pd.DatetimeIndex(df['ReportPeriod']).year\n",
    "df['month'] = pd.DatetimeIndex(df['ReportPeriod']).month\n",
    "flighttype = df.groupby(['FlightType'])['FlightOpsCount'].sum().reset_index()\n",
    "print(flighttype)\n",
    "# Make a dataset:\n",
    "height = flighttype['FlightOpsCount'].tolist()\n",
    "bars = tuple(flighttype['FlightType'].tolist())\n",
    "y_pos = np.arange(len(bars))\n",
    "# Create bars\n",
    "plt.barh(y_pos, height,color=(0.2, 0.4, 0.6, 0.4), edgecolor='white')\n",
    "# Create names on the y-axis\n",
    "plt.yticks(y_pos+0.4, bars)\n",
    "#ax.bar(range(3), bars, width=1, align='center')\n",
    "# title\n",
    "plt.title('Opporation Count with Flight Type')\n",
    "plt.xlabel('Frequency')\n",
    "plt.ylabel('Flight Type')\n",
    "# Show graphic\n",
    "plt.show()\n",
    "\n",
    "month = df.groupby(['month'])['FlightOpsCount'].sum().reset_index()\n",
    "print(month)\n",
    "# Make a dataset:\n",
    "height = month['FlightOpsCount'].tolist()\n",
    "bars = tuple(month['month'].tolist())\n",
    "y_pos = np.arange(len(bars))\n",
    "# Create bars\n",
    "plt.barh(y_pos, height,color=(0.2, 0.4, 0.6, 0.4), edgecolor='white')\n",
    "# Create names on the y-axis\n",
    "plt.yticks(y_pos+0.4, bars)\n",
    "#ax.bar(range(3), bars, width=1, align='center')\n",
    "# title\n",
    "plt.title('Opporation Count with Month')\n",
    "plt.xlabel('Frequency')\n",
    "plt.ylabel('Month')\n",
    "# Show graphic\n",
    "plt.show()\n",
    "\n",
    "year = df.groupby(['year'])['FlightOpsCount'].sum().reset_index()\n",
    "print(year)\n",
    "# Make a dataset:\n",
    "height = year['FlightOpsCount'].tolist()\n",
    "bars = tuple(year['year'].tolist())\n",
    "y_pos = np.arange(len(bars))\n",
    "# Create bars\n",
    "plt.barh(y_pos, height,color=(0.2, 0.4, 0.6, 0.4), edgecolor='white')\n",
    "# Create names on the y-axis\n",
    "plt.yticks(y_pos+0.4, bars)\n",
    "#ax.bar(range(3), bars, width=1, align='center')\n",
    "# title\n",
    "plt.title('Opporation Count with Year')\n",
    "plt.xlabel('Frequency')\n",
    "plt.ylabel('Year')\n",
    "# Show graphic\n",
    "plt.show()\n",
    "\n",
    "type_year = df.groupby(['FlightType', 'year'])['FlightOpsCount'].sum().reset_index() \n",
    "print(type_year)\n",
    "df=pd.DataFrame({'x': range(2006,2018), \n",
    "                 'Charter': type_year['FlightOpsCount'][:12].tolist(), \n",
    "                 'Commuter': type_year['FlightOpsCount'][13:25].tolist(), \n",
    "                 'Scheduled': type_year['FlightOpsCount'][25:37].tolist()})\n",
    "# style\n",
    "plt.style.use('seaborn-darkgrid') \n",
    "# create a color palette\n",
    "#palette = plt.get_cmap('bwr')\n",
    "colors = ['purple', 'blue', 'green']\n",
    "# multiple line plot\n",
    "num=0\n",
    "for column in df.drop('x', axis=1):\n",
    "    plt.plot(df['x'], df[column], marker='', color=colors[num], linewidth=1, alpha=0.9, label=column)\n",
    "    num+=1\n",
    "# Add legend\n",
    "plt.legend(loc=2, ncol=2)\n",
    "# Add titles\n",
    "plt.title(\"Operation Count Trend\", loc='center', fontsize=14, fontweight=0, color='black')\n",
    "plt.xlabel(\"Time\")\n",
    "plt.ylabel(\"Count\")\n",
    "plt.show()\n"
   ]
  },
  {
   "cell_type": "markdown",
   "metadata": {},
   "source": [
    "# The Solution: implement a data science solution to the problem you are trying to solve."
   ]
  },
  {
   "cell_type": "markdown",
   "metadata": {},
   "source": [
    "Briefly describe the idea of your solution to the problem in the following cell:"
   ]
  },
  {
   "cell_type": "code",
   "execution_count": null,
   "metadata": {
    "collapsed": true
   },
   "outputs": [],
   "source": [
    "\n",
    "1. data descriptive analysis\n",
    "2. data preprocessing for modeling\n",
    "3. SVR modeling\n",
    "\n",
    "\n",
    "\n",
    "\n",
    "\n",
    "\n",
    "\n",
    "\n"
   ]
  },
  {
   "cell_type": "markdown",
   "metadata": {},
   "source": [
    "Write codes to implement the solution in python:"
   ]
  },
  {
   "cell_type": "code",
   "execution_count": 2,
   "metadata": {
    "collapsed": true
   },
   "outputs": [],
   "source": [
    "# Your code starts here\n",
    "#   Please add comments or text cells in between to explain the general idea of each block of the code.\n",
    "#   Please feel free to add more cells below this cell if necessary\n",
    "\n",
    "################## MachineHack Data preprocessing\n",
    "len(train)\n",
    "len(train.dropna())\n",
    "train = train.dropna()\n",
    "#departure_month, departure_day \n",
    "train['departure_month'] = pd.to_datetime(train['Date_of_Journey'],\n",
    "                                          format='%d/%m/%Y').dt.month\n",
    "train['departure_day'] = pd.to_datetime(train['Date_of_Journey'],\n",
    "                                          format='%d/%m/%Y').dt.day\n",
    "train.head(15)\n",
    "#departure_time\n",
    "train['departure_hour'] = pd.to_datetime(train['Dep_Time'],\n",
    "                                         format='%H:%M').dt.hour\n",
    "train['departure_min'] = pd.to_datetime(train['Dep_Time'],\n",
    "                                         format='%H:%M').dt.minute\n",
    "train.head(5)\n",
    "#duration\n",
    "# train['Duration']\n",
    "## split\n",
    "ls = list(train['Duration'])\n",
    "for i in range(len(ls)):\n",
    "    ob = ls[i].split()\n",
    "    if len(ob) == 1:\n",
    "        if ob[0][-1] == 'h':\n",
    "            ob = ob[0].strip()+' 0m'\n",
    "        elif ob[0][-1] == 'm':\n",
    "            ob = '0h '+ob[0].strip()\n",
    "        ls[i] = ob\n",
    "ls    \n",
    "#duration\n",
    "## hour and minute\n",
    "dh = []\n",
    "dm = []\n",
    "for i in range(len(ls)):\n",
    "    ob = ls[i].split()\n",
    "    if len(ob) == 2:\n",
    "        dh.append(ob[0][:-1])\n",
    "        dm.append(ob[1][:-1])\n",
    "# len(dh)\n",
    "# len(dm)\n",
    "train['duration_hour'] = dh\n",
    "train['duration_min'] = dm\n",
    "#Total_Stops\n",
    "#train['Total_Stops']\n",
    "tsls = list(train['Total_Stops'])\n",
    "for i in range(len(tsls)):\n",
    "    ob = tsls[i].split()\n",
    "    if len(ob) == 1:\n",
    "        ob = 0\n",
    "    elif len(ob) == 2:\n",
    "        ob = int(ob[0])\n",
    "    tsls[i] = ob\n",
    "tsls\n",
    "train['total_stops_int'] = tsls\n",
    "# arrival hour minute\n",
    "train['arrival_hour'] = pd.to_datetime(train[\"Arrival_Time\"]).dt.hour\n",
    "train['arrival_min'] = pd.to_datetime(train[\"Arrival_Time\"]).dt.minute\n",
    "train.head(3)\n",
    "train_clean = train.drop(labels = ['Date_of_Journey','Dep_Time','Arrival_Time','Duration','Total_Stops'],axis =1)\n",
    "\n",
    "################# SVR modeling\n",
    "# y, x\n",
    "y = train_clean.iloc[:,5].values\n",
    "x = train_clean.iloc[:,train_clean.columns != 'Price'].values\n",
    "# encoding\n",
    "l = LabelEncoder()\n",
    "x[:,0] = l.fit_transform(x[:,0])\n",
    "x[:,1] = l.fit_transform(x[:,1])\n",
    "x[:,2] = l.fit_transform(x[:,2])\n",
    "x[:,3] = l.fit_transform(x[:,3])\n",
    "x[:,4] = l.fit_transform(x[:,4])\n",
    "#x scaling\n",
    "sc = StandardScaler()\n",
    "x = sc.fit_transform(x)\n",
    "# cross validation\n",
    "kf = KFold(n_splits=2)\n",
    "kf.get_n_splits(x)\n",
    "for train_index, test_index in kf.split(x):\n",
    "    print(\"TRAIN:\", train_index, \"TEST:\", test_index)\n",
    "    X_train, X_test = x[train_index], x[test_index]\n",
    "    y_train, y_test = y[train_index], y[test_index]\n",
    "#y scaling\n",
    "y_train_sc = sc.fit_transform(y_train)\n",
    "y_test_sc = sc.fit_transform(y_test)\n",
    "#modeling\n",
    "#cv 1\n",
    "svr = SVR(kernel = \"rbf\")\n",
    "svr.fit(X_train,y_train_sc)\n",
    "y_pred_1 = sc.inverse_transform(svr.predict(X_test))\n",
    "y_test\n",
    "y_pred_1\n",
    "\n",
    "#cv 2\n",
    "svr = SVR(kernel = \"rbf\")\n",
    "svr.fit(X_test,y_test_sc)\n",
    "y_pred_2 = sc.inverse_transform(svr.predict(X_train))\n",
    "y_train\n",
    "y_pred_2\n",
    "\n",
    "#evaluation\n",
    "np.mean((np.abs(y_pred_2 - y_train)/y_train) == 0) # 0.01,0.05,0.10,0.15,0.20,0.25\n",
    "np.mean((np.abs(y_pred_1 - y_test)/y_test) < 0.01) # 0.01,0.05,0.10,0.15,0.20,0.25\n",
    "\n",
    "\n"
   ]
  },
  {
   "cell_type": "markdown",
   "metadata": {},
   "source": [
    "# Results: summarize and visualize the results discovered from the analysis\n",
    "\n",
    "Please use figures, tables, or videos to communicate the results with the audience.\n"
   ]
  },
  {
   "cell_type": "code",
   "execution_count": null,
   "metadata": {
    "collapsed": true
   },
   "outputs": [],
   "source": [
    "# Your code starts here\n",
    "#   Please add comments or text cells in between to explain the general idea of each block of the code.\n",
    "#   Please feel free to add more cells below this cell if necessary\n",
    "\n",
    "#SVR modeling\n",
    "x_error = np.array([0,0.01,0.05,0.10,0.15,0.20,0.25])\n",
    "y_persent_pred_average = np.array([0,5.67, 29.13, 50.35, 66.49, 75.23, 81.58])\n",
    "\n",
    "%matplotlib inline\n",
    "import matplotlib.pyplot as plt\n",
    "plt.style.use('seaborn-whitegrid')\n",
    "fig = plt.figure()\n",
    "ax = plt.axes()\n",
    "plt.plot(x_error, y_persent_pred_2)\n",
    "plt.title(\"Flight Ticket Prediction Performance\", loc='center', fontsize=14, fontweight=0, color='black')\n",
    "plt.xlabel(\"Relative error (abs_error/true_price)\")\n",
    "plt.ylabel(\"Percent %\")\n",
    "plt.show()\n"
   ]
  },
  {
   "cell_type": "markdown",
   "metadata": {},
   "source": [
    "*-----------------\n",
    "# Done\n",
    "\n",
    "All set! \n",
    "\n",
    "** What do you need to submit?**\n",
    "\n",
    "* **Notebook File**: Save this Jupyter notebook, and find the notebook file in your folder (for example, \"filename.ipynb\"). This is the file you need to submit. Please make sure all the plotted tables and figures are in the notebook. If you used \"jupyter notebook --pylab=inline\" to open the notebook, all the figures and tables should have shown up in the notebook.\n",
    "\n",
    "* **PPT Slides**: please prepare PPT slides (for 7 minutes' talk) to present about the case study . Each team present their case studies in class for 7 minutes.\n",
    "\n",
    "Please compress all the files in a zipped file.\n",
    "\n",
    "\n",
    "** How to submit: **\n",
    "\n",
    "        Please submit through Canvas, in the Assignment \"Case Study 4\".\n",
    "        \n",
    "** Note: Each team only needs to submit one submission in Canvas **"
   ]
  },
  {
   "cell_type": "code",
   "execution_count": null,
   "metadata": {
    "collapsed": true
   },
   "outputs": [],
   "source": []
  }
 ],
 "metadata": {
  "anaconda-cloud": {},
  "kernelspec": {
   "display_name": "Python 3",
   "language": "python",
   "name": "python3"
  },
  "language_info": {
   "codemirror_mode": {
    "name": "ipython",
    "version": 3
   },
   "file_extension": ".py",
   "mimetype": "text/x-python",
   "name": "python",
   "nbconvert_exporter": "python",
   "pygments_lexer": "ipython3",
   "version": "3.7.2"
  }
 },
 "nbformat": 4,
 "nbformat_minor": 1
}
