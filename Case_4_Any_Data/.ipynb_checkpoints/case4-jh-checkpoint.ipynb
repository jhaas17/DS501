{
 "cells": [
  {
   "cell_type": "code",
   "execution_count": 213,
   "metadata": {},
   "outputs": [
    {
     "data": {
      "text/html": [
       "<div>\n",
       "<style scoped>\n",
       "    .dataframe tbody tr th:only-of-type {\n",
       "        vertical-align: middle;\n",
       "    }\n",
       "\n",
       "    .dataframe tbody tr th {\n",
       "        vertical-align: top;\n",
       "    }\n",
       "\n",
       "    .dataframe thead th {\n",
       "        text-align: right;\n",
       "    }\n",
       "</style>\n",
       "<table border=\"1\" class=\"dataframe\">\n",
       "  <thead>\n",
       "    <tr style=\"text-align: right;\">\n",
       "      <th></th>\n",
       "      <th>Airline</th>\n",
       "      <th>Source</th>\n",
       "      <th>Destination</th>\n",
       "      <th>Route</th>\n",
       "      <th>Price</th>\n",
       "      <th>departure_month</th>\n",
       "      <th>departure_day</th>\n",
       "      <th>departure_hour</th>\n",
       "      <th>departure_min</th>\n",
       "      <th>duration_hour</th>\n",
       "      <th>duration_min</th>\n",
       "      <th>total_stops_int</th>\n",
       "      <th>arrival_hour</th>\n",
       "      <th>arrival_min</th>\n",
       "      <th>day</th>\n",
       "    </tr>\n",
       "  </thead>\n",
       "  <tbody>\n",
       "    <tr>\n",
       "      <td>0</td>\n",
       "      <td>IndiGo</td>\n",
       "      <td>Banglore</td>\n",
       "      <td>New Delhi</td>\n",
       "      <td>BLR → DEL</td>\n",
       "      <td>3897</td>\n",
       "      <td>3</td>\n",
       "      <td>24</td>\n",
       "      <td>22</td>\n",
       "      <td>20</td>\n",
       "      <td>2</td>\n",
       "      <td>50</td>\n",
       "      <td>0</td>\n",
       "      <td>1</td>\n",
       "      <td>10</td>\n",
       "      <td>Sunday</td>\n",
       "    </tr>\n",
       "    <tr>\n",
       "      <td>1</td>\n",
       "      <td>Air India</td>\n",
       "      <td>Kolkata</td>\n",
       "      <td>Banglore</td>\n",
       "      <td>CCU → IXR → BBI → BLR</td>\n",
       "      <td>7662</td>\n",
       "      <td>5</td>\n",
       "      <td>1</td>\n",
       "      <td>5</td>\n",
       "      <td>50</td>\n",
       "      <td>7</td>\n",
       "      <td>25</td>\n",
       "      <td>2</td>\n",
       "      <td>13</td>\n",
       "      <td>15</td>\n",
       "      <td>Wednesday</td>\n",
       "    </tr>\n",
       "    <tr>\n",
       "      <td>2</td>\n",
       "      <td>Jet Airways</td>\n",
       "      <td>Delhi</td>\n",
       "      <td>Cochin</td>\n",
       "      <td>DEL → LKO → BOM → COK</td>\n",
       "      <td>13882</td>\n",
       "      <td>6</td>\n",
       "      <td>9</td>\n",
       "      <td>9</td>\n",
       "      <td>25</td>\n",
       "      <td>19</td>\n",
       "      <td>0</td>\n",
       "      <td>2</td>\n",
       "      <td>4</td>\n",
       "      <td>25</td>\n",
       "      <td>Sunday</td>\n",
       "    </tr>\n",
       "    <tr>\n",
       "      <td>3</td>\n",
       "      <td>IndiGo</td>\n",
       "      <td>Kolkata</td>\n",
       "      <td>Banglore</td>\n",
       "      <td>CCU → NAG → BLR</td>\n",
       "      <td>6218</td>\n",
       "      <td>5</td>\n",
       "      <td>12</td>\n",
       "      <td>18</td>\n",
       "      <td>5</td>\n",
       "      <td>5</td>\n",
       "      <td>25</td>\n",
       "      <td>1</td>\n",
       "      <td>23</td>\n",
       "      <td>30</td>\n",
       "      <td>Sunday</td>\n",
       "    </tr>\n",
       "    <tr>\n",
       "      <td>4</td>\n",
       "      <td>IndiGo</td>\n",
       "      <td>Banglore</td>\n",
       "      <td>New Delhi</td>\n",
       "      <td>BLR → NAG → DEL</td>\n",
       "      <td>13302</td>\n",
       "      <td>3</td>\n",
       "      <td>1</td>\n",
       "      <td>16</td>\n",
       "      <td>50</td>\n",
       "      <td>4</td>\n",
       "      <td>45</td>\n",
       "      <td>1</td>\n",
       "      <td>21</td>\n",
       "      <td>35</td>\n",
       "      <td>Friday</td>\n",
       "    </tr>\n",
       "  </tbody>\n",
       "</table>\n",
       "</div>"
      ],
      "text/plain": [
       "       Airline    Source Destination                  Route  Price  \\\n",
       "0       IndiGo  Banglore   New Delhi              BLR → DEL   3897   \n",
       "1    Air India   Kolkata    Banglore  CCU → IXR → BBI → BLR   7662   \n",
       "2  Jet Airways     Delhi      Cochin  DEL → LKO → BOM → COK  13882   \n",
       "3       IndiGo   Kolkata    Banglore        CCU → NAG → BLR   6218   \n",
       "4       IndiGo  Banglore   New Delhi        BLR → NAG → DEL  13302   \n",
       "\n",
       "   departure_month  departure_day  departure_hour  departure_min  \\\n",
       "0                3             24              22             20   \n",
       "1                5              1               5             50   \n",
       "2                6              9               9             25   \n",
       "3                5             12              18              5   \n",
       "4                3              1              16             50   \n",
       "\n",
       "   duration_hour  duration_min  total_stops_int  arrival_hour  arrival_min  \\\n",
       "0              2            50                0             1           10   \n",
       "1              7            25                2            13           15   \n",
       "2             19             0                2             4           25   \n",
       "3              5            25                1            23           30   \n",
       "4              4            45                1            21           35   \n",
       "\n",
       "         day  \n",
       "0     Sunday  \n",
       "1  Wednesday  \n",
       "2     Sunday  \n",
       "3     Sunday  \n",
       "4     Friday  "
      ]
     },
     "execution_count": 213,
     "metadata": {},
     "output_type": "execute_result"
    }
   ],
   "source": [
    "import pandas as pd\n",
    "\n",
    "flights = pd.read_csv('Data_Train.csv')\n",
    "flights_clean = pd.read_csv('Flight_Ticket_clean_data.csv')\n",
    "flights_clean['date'] = '2019-' + flights_clean['departure_month'].map(str) + '-' + flights_clean['departure_day'].map(str)\n",
    "flights_clean.date = pd.to_datetime(flights_clean.date)\n",
    "flights_clean['day'] = flights_clean.date.dt.day_name()\n",
    "flights_clean.drop(['date'],axis=1,inplace=True)\n",
    "flights_clean.head()"
   ]
  },
  {
   "cell_type": "code",
   "execution_count": 223,
   "metadata": {},
   "outputs": [
    {
     "name": "stdout",
     "output_type": "stream",
     "text": [
      "Average price per day of week:\n",
      "day\n",
      "Friday       9717.996700\n",
      "Monday       8500.082207\n",
      "Saturday     8972.905389\n",
      "Sunday       9525.508820\n",
      "Thursday     8931.379367\n",
      "Tuesday      9026.149597\n",
      "Wednesday    9277.514190\n",
      "Name: Price, dtype: float64\n",
      "Number of flights per day of week:\n",
      "Wednesday    2079\n",
      "Monday       1849\n",
      "Thursday     1832\n",
      "Saturday     1670\n",
      "Sunday       1474\n",
      "Friday        909\n",
      "Tuesday       869\n",
      "Name: day, dtype: int64\n"
     ]
    }
   ],
   "source": [
    "print(\"Average price per day of week:\")\n",
    "print(flights_clean.groupby('day').mean()['Price'])\n",
    "print(\"Number of flights per day of week:\")\n",
    "print(flights_clean['day'].value_counts())"
   ]
  },
  {
   "cell_type": "code",
   "execution_count": 236,
   "metadata": {},
   "outputs": [
    {
     "data": {
      "text/plain": [
       "Source    Destination\n",
       "Banglore  Delhi          1265\n",
       "          New Delhi       932\n",
       "Chennai   Kolkata         381\n",
       "Delhi     Cochin         4536\n",
       "Kolkata   Banglore       2871\n",
       "Mumbai    Hyderabad       697\n",
       "Name: Route, dtype: int64"
      ]
     },
     "execution_count": 236,
     "metadata": {},
     "output_type": "execute_result"
    }
   ],
   "source": [
    "flights_clean.groupby(['Source','Destination']).count()['Route']"
   ]
  },
  {
   "cell_type": "code",
   "execution_count": 238,
   "metadata": {},
   "outputs": [
    {
     "data": {
      "text/plain": [
       "(4534, 15)"
      ]
     },
     "execution_count": 238,
     "metadata": {},
     "output_type": "execute_result"
    }
   ],
   "source": [
    "#Look at most frequent Route- Delhi to Cochin\n",
    "del_to_coc = flights_clean.loc[(flights_clean['Source']=='Delhi') & (flights_clean['Destination']=='Cochin')]\n",
    "#Get rid of single business class outlier\n",
    "del_to_coc = del_to_coc.loc[flights_clean['Airline'] != 'Jet Airways Business']\n",
    "del_to_coc.shape"
   ]
  },
  {
   "cell_type": "code",
   "execution_count": 239,
   "metadata": {},
   "outputs": [
    {
     "name": "stdout",
     "output_type": "stream",
     "text": [
      "           day  total      perc\n",
      "Friday      17     48  0.354167\n",
      "Monday      39    857  0.045508\n",
      "Saturday    35    934  0.037473\n",
      "Sunday      29    435  0.066667\n",
      "Thursday    37   1029  0.035957\n",
      "Tuesday     19    303  0.062706\n",
      "Wednesday   37    928  0.039871\n"
     ]
    },
    {
     "data": {
      "text/plain": [
       "<matplotlib.axes._subplots.AxesSubplot at 0x11649b240>"
      ]
     },
     "execution_count": 239,
     "metadata": {},
     "output_type": "execute_result"
    },
    {
     "data": {
      "image/png": "[encoded data removed]",
      "text/plain": [
       "<Figure size 432x288 with 1 Axes>"
      ]
     },
     "metadata": {
      "needs_background": "light"
     },
     "output_type": "display_data"
    }
   ],
   "source": [
    "direct = del_to_coc.loc[del_to_coc['total_stops_int'] == 0]\n",
    "all_flights = del_to_coc['day'].value_counts().sort_index()\n",
    "\n",
    "direct_days = direct['day'].value_counts().sort_index()\n",
    "direct_days = pd.DataFrame(direct_days)\n",
    "all_flights = pd.DataFrame(all_flights)\n",
    "direct_days['total'] = all_flights['day']\n",
    "direct_days['perc'] = direct_days['day']/direct_days['total']\n",
    "print(direct_days)\n",
    "direct_days.plot(y = ['day'], kind = 'bar')"
   ]
  },
  {
   "cell_type": "code",
   "execution_count": null,
   "metadata": {},
   "outputs": [],
   "source": []
  }
 ],
 "metadata": {
  "kernelspec": {
   "display_name": "Python 3",
   "language": "python",
   "name": "python3"
  },
  "language_info": {
   "codemirror_mode": {
    "name": "ipython",
    "version": 3
   },
   "file_extension": ".py",
   "mimetype": "text/x-python",
   "name": "python",
   "nbconvert_exporter": "python",
   "pygments_lexer": "ipython3",
   "version": "3.7.2"
  }
 },
 "nbformat": 4,
 "nbformat_minor": 2
}
